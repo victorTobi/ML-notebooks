{
 "cells": [
  {
   "cell_type": "code",
   "execution_count": 3,
   "id": "6e61e5d4",
   "metadata": {},
   "outputs": [],
   "source": [
    "import numpy as np"
   ]
  },
  {
   "cell_type": "markdown",
   "id": "b4d5b896",
   "metadata": {},
   "source": [
    "## Datatype and Attributes"
   ]
  },
  {
   "cell_type": "code",
   "execution_count": 4,
   "id": "88186a19",
   "metadata": {},
   "outputs": [
    {
     "data": {
      "text/plain": [
       "array([1, 2, 3])"
      ]
     },
     "execution_count": 4,
     "metadata": {},
     "output_type": "execute_result"
    }
   ],
   "source": [
    "#making a numpy array\n",
    "a1 = np.array([1,2,3])\n",
    "a1"
   ]
  },
  {
   "cell_type": "code",
   "execution_count": 5,
   "id": "1af794a5",
   "metadata": {},
   "outputs": [
    {
     "data": {
      "text/plain": [
       "numpy.ndarray"
      ]
     },
     "execution_count": 5,
     "metadata": {},
     "output_type": "execute_result"
    }
   ],
   "source": [
    "type(a1)"
   ]
  },
  {
   "cell_type": "code",
   "execution_count": 6,
   "id": "4dd46bce",
   "metadata": {},
   "outputs": [],
   "source": [
    "a2 = np.array([[1,2.6,3.0],\n",
    "              [9,2.2,7.1]])\n",
    "\n",
    "a3 = np.array([[[2,5,7],\n",
    "              [1,3,56],\n",
    "              [4,6,7]],\n",
    "             [[10,33,4],\n",
    "             [4,56,7],\n",
    "             [11,34,6]]])"
   ]
  },
  {
   "cell_type": "code",
   "execution_count": 7,
   "id": "e7d87852",
   "metadata": {},
   "outputs": [
    {
     "data": {
      "text/plain": [
       "array([[1. , 2.6, 3. ],\n",
       "       [9. , 2.2, 7.1]])"
      ]
     },
     "execution_count": 7,
     "metadata": {},
     "output_type": "execute_result"
    }
   ],
   "source": [
    "a2"
   ]
  },
  {
   "cell_type": "code",
   "execution_count": 8,
   "id": "55f7c2df",
   "metadata": {},
   "outputs": [
    {
     "data": {
      "text/plain": [
       "array([[[ 2,  5,  7],\n",
       "        [ 1,  3, 56],\n",
       "        [ 4,  6,  7]],\n",
       "\n",
       "       [[10, 33,  4],\n",
       "        [ 4, 56,  7],\n",
       "        [11, 34,  6]]])"
      ]
     },
     "execution_count": 8,
     "metadata": {},
     "output_type": "execute_result"
    }
   ],
   "source": [
    "a3"
   ]
  },
  {
   "cell_type": "code",
   "execution_count": 9,
   "id": "44905e59",
   "metadata": {},
   "outputs": [
    {
     "data": {
      "text/plain": [
       "(3,)"
      ]
     },
     "execution_count": 9,
     "metadata": {},
     "output_type": "execute_result"
    }
   ],
   "source": [
    "a1.shape\n"
   ]
  },
  {
   "cell_type": "code",
   "execution_count": 10,
   "id": "cd115ff4",
   "metadata": {},
   "outputs": [
    {
     "data": {
      "text/plain": [
       "(2, 3)"
      ]
     },
     "execution_count": 10,
     "metadata": {},
     "output_type": "execute_result"
    }
   ],
   "source": [
    "a2.shape"
   ]
  },
  {
   "cell_type": "code",
   "execution_count": 11,
   "id": "5dcee2b1",
   "metadata": {},
   "outputs": [
    {
     "data": {
      "text/plain": [
       "(2, 3, 3)"
      ]
     },
     "execution_count": 11,
     "metadata": {},
     "output_type": "execute_result"
    }
   ],
   "source": [
    "a3.shape"
   ]
  },
  {
   "cell_type": "code",
   "execution_count": 12,
   "id": "1063ec48",
   "metadata": {},
   "outputs": [
    {
     "data": {
      "text/plain": [
       "(1, 2, 3)"
      ]
     },
     "execution_count": 12,
     "metadata": {},
     "output_type": "execute_result"
    }
   ],
   "source": [
    "#get number of dimensions for a1,a2 and a3\n",
    "a1.ndim, a2.ndim, a3.ndim"
   ]
  },
  {
   "cell_type": "code",
   "execution_count": 13,
   "id": "596abd79",
   "metadata": {},
   "outputs": [
    {
     "data": {
      "text/plain": [
       "(3, 6, 18)"
      ]
     },
     "execution_count": 13,
     "metadata": {},
     "output_type": "execute_result"
    }
   ],
   "source": [
    "#get number of items in array\n",
    "a1.size, a2.size, a3.size"
   ]
  },
  {
   "cell_type": "code",
   "execution_count": 14,
   "id": "85310568",
   "metadata": {},
   "outputs": [
    {
     "data": {
      "text/html": [
       "<div>\n",
       "<style scoped>\n",
       "    .dataframe tbody tr th:only-of-type {\n",
       "        vertical-align: middle;\n",
       "    }\n",
       "\n",
       "    .dataframe tbody tr th {\n",
       "        vertical-align: top;\n",
       "    }\n",
       "\n",
       "    .dataframe thead th {\n",
       "        text-align: right;\n",
       "    }\n",
       "</style>\n",
       "<table border=\"1\" class=\"dataframe\">\n",
       "  <thead>\n",
       "    <tr style=\"text-align: right;\">\n",
       "      <th></th>\n",
       "      <th>0</th>\n",
       "      <th>1</th>\n",
       "      <th>2</th>\n",
       "    </tr>\n",
       "  </thead>\n",
       "  <tbody>\n",
       "    <tr>\n",
       "      <th>0</th>\n",
       "      <td>1.0</td>\n",
       "      <td>2.6</td>\n",
       "      <td>3.0</td>\n",
       "    </tr>\n",
       "    <tr>\n",
       "      <th>1</th>\n",
       "      <td>9.0</td>\n",
       "      <td>2.2</td>\n",
       "      <td>7.1</td>\n",
       "    </tr>\n",
       "  </tbody>\n",
       "</table>\n",
       "</div>"
      ],
      "text/plain": [
       "     0    1    2\n",
       "0  1.0  2.6  3.0\n",
       "1  9.0  2.2  7.1"
      ]
     },
     "execution_count": 14,
     "metadata": {},
     "output_type": "execute_result"
    }
   ],
   "source": [
    "#create a pandas dataframe from a Numpy array\n",
    "import pandas as pd\n",
    "\n",
    "df = pd.DataFrame(a2)\n",
    "df"
   ]
  },
  {
   "cell_type": "markdown",
   "id": "0cc86ff8",
   "metadata": {},
   "source": [
    "## Creating arrays"
   ]
  },
  {
   "cell_type": "code",
   "execution_count": 16,
   "id": "7f31365e",
   "metadata": {},
   "outputs": [
    {
     "data": {
      "text/plain": [
       "array([1, 2, 3])"
      ]
     },
     "execution_count": 16,
     "metadata": {},
     "output_type": "execute_result"
    }
   ],
   "source": [
    "sample_array = np.array([1,2,3])\n",
    "sample_array"
   ]
  },
  {
   "cell_type": "code",
   "execution_count": 19,
   "id": "1f127e4d",
   "metadata": {},
   "outputs": [
    {
     "data": {
      "text/plain": [
       "array([[1., 1., 1.],\n",
       "       [1., 1., 1.]])"
      ]
     },
     "execution_count": 19,
     "metadata": {},
     "output_type": "execute_result"
    }
   ],
   "source": [
    "ones = np.ones((2,3))\n",
    "#returns an ndarray of given shape filled with ones\n",
    "ones"
   ]
  },
  {
   "cell_type": "code",
   "execution_count": 21,
   "id": "0aa71304",
   "metadata": {},
   "outputs": [
    {
     "data": {
      "text/plain": [
       "array([[0., 0., 0., 0.],\n",
       "       [0., 0., 0., 0.],\n",
       "       [0., 0., 0., 0.]])"
      ]
     },
     "execution_count": 21,
     "metadata": {},
     "output_type": "execute_result"
    }
   ],
   "source": [
    "zeros = np.zeros((3,4))\n",
    "zeros"
   ]
  },
  {
   "cell_type": "code",
   "execution_count": 23,
   "id": "359314ce",
   "metadata": {},
   "outputs": [
    {
     "data": {
      "text/plain": [
       "array([0, 2, 4, 6, 8])"
      ]
     },
     "execution_count": 23,
     "metadata": {},
     "output_type": "execute_result"
    }
   ],
   "source": [
    "range_array = np.arange(0, 10, 2)\n",
    "#returns evenly spaced values within a given interval\n",
    "range_array"
   ]
  },
  {
   "cell_type": "code",
   "execution_count": 25,
   "id": "cb8d8405",
   "metadata": {},
   "outputs": [
    {
     "data": {
      "text/plain": [
       "array([[8, 2, 6, 4, 1],\n",
       "       [3, 8, 7, 4, 7],\n",
       "       [8, 8, 0, 3, 7]])"
      ]
     },
     "execution_count": 25,
     "metadata": {},
     "output_type": "execute_result"
    }
   ],
   "source": [
    "#create array with random values\n",
    "random_array = np.random.randint(0,9, size=(3,5))\n",
    "random_array"
   ]
  },
  {
   "cell_type": "code",
   "execution_count": 26,
   "id": "bb399dbc",
   "metadata": {},
   "outputs": [
    {
     "data": {
      "text/plain": [
       "array([[0.79000241, 0.96507203, 0.32212252],\n",
       "       [0.76735643, 0.94657449, 0.93080947],\n",
       "       [0.70768003, 0.57590952, 0.60289974],\n",
       "       [0.9661417 , 0.51757557, 0.67550374],\n",
       "       [0.97464507, 0.87146068, 0.44715923]])"
      ]
     },
     "execution_count": 26,
     "metadata": {},
     "output_type": "execute_result"
    }
   ],
   "source": [
    "#another method to create a random array\n",
    "random_array_2 = np.random.random((5,3))\n",
    "random_array_2"
   ]
  },
  {
   "cell_type": "code",
   "execution_count": 27,
   "id": "750836c6",
   "metadata": {},
   "outputs": [
    {
     "data": {
      "text/plain": [
       "array([[0.66263363, 0.05996733, 0.81494044],\n",
       "       [0.76255569, 0.5807114 , 0.32144161],\n",
       "       [0.28296524, 0.48034392, 0.62856425],\n",
       "       [0.02259978, 0.64192542, 0.13152755],\n",
       "       [0.85639704, 0.67986457, 0.69867708]])"
      ]
     },
     "execution_count": 27,
     "metadata": {},
     "output_type": "execute_result"
    }
   ],
   "source": [
    "#another method to create a rondom array\n",
    "random_array_3 = np.random.rand(5,3)\n",
    "random_array_3"
   ]
  },
  {
   "cell_type": "markdown",
   "id": "4a008a7b",
   "metadata": {},
   "source": [
    "## Viewing arrays and matrices"
   ]
  },
  {
   "cell_type": "code",
   "execution_count": 28,
   "id": "d95179d7",
   "metadata": {},
   "outputs": [
    {
     "data": {
      "text/plain": [
       "array([0.32212252, 0.44715923, 0.51757557, 0.57590952, 0.60289974,\n",
       "       0.67550374, 0.70768003, 0.76735643, 0.79000241, 0.87146068,\n",
       "       0.93080947, 0.94657449, 0.96507203, 0.9661417 , 0.97464507])"
      ]
     },
     "execution_count": 28,
     "metadata": {},
     "output_type": "execute_result"
    }
   ],
   "source": [
    "np.unique(random_array_2)"
   ]
  },
  {
   "cell_type": "code",
   "execution_count": 29,
   "id": "085474cd",
   "metadata": {},
   "outputs": [
    {
     "data": {
      "text/plain": [
       "array([1, 2, 3])"
      ]
     },
     "execution_count": 29,
     "metadata": {},
     "output_type": "execute_result"
    }
   ],
   "source": [
    "a1"
   ]
  },
  {
   "cell_type": "code",
   "execution_count": 30,
   "id": "e47002df",
   "metadata": {},
   "outputs": [
    {
     "data": {
      "text/plain": [
       "array([[1. , 2.6, 3. ],\n",
       "       [9. , 2.2, 7.1]])"
      ]
     },
     "execution_count": 30,
     "metadata": {},
     "output_type": "execute_result"
    }
   ],
   "source": [
    "a2"
   ]
  },
  {
   "cell_type": "code",
   "execution_count": 31,
   "id": "4735ffd3",
   "metadata": {},
   "outputs": [
    {
     "data": {
      "text/plain": [
       "array([[[ 2,  5,  7],\n",
       "        [ 1,  3, 56],\n",
       "        [ 4,  6,  7]],\n",
       "\n",
       "       [[10, 33,  4],\n",
       "        [ 4, 56,  7],\n",
       "        [11, 34,  6]]])"
      ]
     },
     "execution_count": 31,
     "metadata": {},
     "output_type": "execute_result"
    }
   ],
   "source": [
    "a3"
   ]
  },
  {
   "cell_type": "markdown",
   "id": "2dc421da",
   "metadata": {},
   "source": [
    "## Comparing and comparing arrays\n",
    "### Arithmetic\n"
   ]
  },
  {
   "cell_type": "code",
   "execution_count": 33,
   "id": "ef6b0309",
   "metadata": {},
   "outputs": [
    {
     "data": {
      "text/plain": [
       "array([1., 1., 1.])"
      ]
     },
     "execution_count": 33,
     "metadata": {},
     "output_type": "execute_result"
    }
   ],
   "source": [
    "ones = np.ones(3)\n",
    "ones"
   ]
  },
  {
   "cell_type": "code",
   "execution_count": 34,
   "id": "9bbb1659",
   "metadata": {},
   "outputs": [
    {
     "data": {
      "text/plain": [
       "array([1, 2, 3])"
      ]
     },
     "execution_count": 34,
     "metadata": {},
     "output_type": "execute_result"
    }
   ],
   "source": [
    "a1"
   ]
  },
  {
   "cell_type": "code",
   "execution_count": 40,
   "id": "995f1959",
   "metadata": {},
   "outputs": [
    {
     "data": {
      "text/plain": [
       "array([[1. , 2.6, 3. ],\n",
       "       [9. , 2.2, 7.1]])"
      ]
     },
     "execution_count": 40,
     "metadata": {},
     "output_type": "execute_result"
    }
   ],
   "source": [
    "a2"
   ]
  },
  {
   "cell_type": "code",
   "execution_count": 43,
   "id": "841d3765",
   "metadata": {},
   "outputs": [
    {
     "data": {
      "text/plain": [
       "array([[[ 2,  5,  7],\n",
       "        [ 1,  3, 56],\n",
       "        [ 4,  6,  7]],\n",
       "\n",
       "       [[10, 33,  4],\n",
       "        [ 4, 56,  7],\n",
       "        [11, 34,  6]]])"
      ]
     },
     "execution_count": 43,
     "metadata": {},
     "output_type": "execute_result"
    }
   ],
   "source": [
    "a3"
   ]
  },
  {
   "cell_type": "code",
   "execution_count": 35,
   "id": "c228a611",
   "metadata": {},
   "outputs": [
    {
     "data": {
      "text/plain": [
       "array([2., 3., 4.])"
      ]
     },
     "execution_count": 35,
     "metadata": {},
     "output_type": "execute_result"
    }
   ],
   "source": [
    "a1 + ones\n",
    "#add the elements in the same position of the two arrays"
   ]
  },
  {
   "cell_type": "code",
   "execution_count": 36,
   "id": "bc5e7aa5",
   "metadata": {},
   "outputs": [
    {
     "data": {
      "text/plain": [
       "array([0., 1., 2.])"
      ]
     },
     "execution_count": 36,
     "metadata": {},
     "output_type": "execute_result"
    }
   ],
   "source": [
    "a1 - ones\n",
    "#subtract the elements in the same position of the two arrays"
   ]
  },
  {
   "cell_type": "code",
   "execution_count": 37,
   "id": "0deccd3a",
   "metadata": {},
   "outputs": [
    {
     "data": {
      "text/plain": [
       "array([1., 2., 3.])"
      ]
     },
     "execution_count": 37,
     "metadata": {},
     "output_type": "execute_result"
    }
   ],
   "source": [
    "a1 * ones\n",
    "#multiplies the elements in the same position of the two arrays"
   ]
  },
  {
   "cell_type": "code",
   "execution_count": 38,
   "id": "cc33edec",
   "metadata": {},
   "outputs": [
    {
     "data": {
      "text/plain": [
       "array([1, 4, 9], dtype=int32)"
      ]
     },
     "execution_count": 38,
     "metadata": {},
     "output_type": "execute_result"
    }
   ],
   "source": [
    "a1 ** 2\n",
    "#exponents/ raises to the power of 2"
   ]
  },
  {
   "cell_type": "code",
   "execution_count": 41,
   "id": "7ec49cc8",
   "metadata": {},
   "outputs": [
    {
     "data": {
      "text/plain": [
       "array([[ 1.  ,  6.76,  9.  ],\n",
       "       [81.  ,  4.84, 50.41]])"
      ]
     },
     "execution_count": 41,
     "metadata": {},
     "output_type": "execute_result"
    }
   ],
   "source": [
    "np.square(a2)\n",
    "#find the square"
   ]
  },
  {
   "cell_type": "code",
   "execution_count": 42,
   "id": "cd5dff73",
   "metadata": {},
   "outputs": [
    {
     "data": {
      "text/plain": [
       "array([[[0.69314718, 1.60943791, 1.94591015],\n",
       "        [0.        , 1.09861229, 4.02535169],\n",
       "        [1.38629436, 1.79175947, 1.94591015]],\n",
       "\n",
       "       [[2.30258509, 3.49650756, 1.38629436],\n",
       "        [1.38629436, 4.02535169, 1.94591015],\n",
       "        [2.39789527, 3.52636052, 1.79175947]]])"
      ]
     },
     "execution_count": 42,
     "metadata": {},
     "output_type": "execute_result"
    }
   ],
   "source": [
    "np.log(a3)"
   ]
  },
  {
   "cell_type": "markdown",
   "id": "b51b9755",
   "metadata": {},
   "source": [
    "### Aggregation\n",
    "Aggregation = performing the same operation on a number of things"
   ]
  },
  {
   "cell_type": "code",
   "execution_count": 45,
   "id": "129f4363",
   "metadata": {},
   "outputs": [
    {
     "data": {
      "text/plain": [
       "array([1, 2, 3])"
      ]
     },
     "execution_count": 45,
     "metadata": {},
     "output_type": "execute_result"
    }
   ],
   "source": [
    "a1"
   ]
  },
  {
   "cell_type": "markdown",
   "id": "b0956279",
   "metadata": {},
   "source": [
    "Note to use python's method ex `sum()` on python datatypes and\n",
    "use NumPy'smethods on numpy arrays ex `np.sum()`"
   ]
  },
  {
   "cell_type": "code",
   "execution_count": 47,
   "id": "4960887a",
   "metadata": {},
   "outputs": [
    {
     "data": {
      "text/plain": [
       "100000"
      ]
     },
     "execution_count": 47,
     "metadata": {},
     "output_type": "execute_result"
    }
   ],
   "source": [
    "#create a large array with 100000 numbers\n",
    "large_array = np.random.random(100000)\n",
    "large_array.size"
   ]
  },
  {
   "cell_type": "code",
   "execution_count": 48,
   "id": "2795efdc",
   "metadata": {},
   "outputs": [
    {
     "name": "stdout",
     "output_type": "stream",
     "text": [
      "20.8 ms ± 3.9 ms per loop (mean ± std. dev. of 7 runs, 10 loops each)\n",
      "129 µs ± 32.2 µs per loop (mean ± std. dev. of 7 runs, 10000 loops each)\n"
     ]
    }
   ],
   "source": [
    "%timeit sum(large_array) #python method\n",
    "%timeit np.sum(large_array) #numpy method\n",
    "\n",
    "#numpy is significantly faster than python's method"
   ]
  },
  {
   "cell_type": "code",
   "execution_count": 49,
   "id": "6f1908d5",
   "metadata": {},
   "outputs": [
    {
     "data": {
      "text/plain": [
       "2.0"
      ]
     },
     "execution_count": 49,
     "metadata": {},
     "output_type": "execute_result"
    }
   ],
   "source": [
    "np.mean(a1)"
   ]
  },
  {
   "cell_type": "code",
   "execution_count": 50,
   "id": "f6ce8c16",
   "metadata": {},
   "outputs": [
    {
     "data": {
      "text/plain": [
       "3"
      ]
     },
     "execution_count": 50,
     "metadata": {},
     "output_type": "execute_result"
    }
   ],
   "source": [
    "np.max(a1)"
   ]
  },
  {
   "cell_type": "code",
   "execution_count": 51,
   "id": "6c226b55",
   "metadata": {},
   "outputs": [
    {
     "data": {
      "text/plain": [
       "2.87735410866766"
      ]
     },
     "execution_count": 51,
     "metadata": {},
     "output_type": "execute_result"
    }
   ],
   "source": [
    "np.std(a2)\n",
    "#standard deviation = a measure of how spread out a group of numbers is from the mean\n",
    "# standard deviation = square root of the variance"
   ]
  },
  {
   "cell_type": "code",
   "execution_count": 52,
   "id": "7a9fec01",
   "metadata": {},
   "outputs": [
    {
     "data": {
      "text/plain": [
       "8.279166666666665"
      ]
     },
     "execution_count": 52,
     "metadata": {},
     "output_type": "execute_result"
    }
   ],
   "source": [
    "np.var(a2)\n",
    "#variance = measure of the average degree to which each number is different to the mean\n",
    "#higher_variance = Wider range of numbers\n",
    "#lower variance = lower range of numbers"
   ]
  },
  {
   "cell_type": "markdown",
   "id": "8f84d700",
   "metadata": {},
   "source": [
    " ## Sorting Arrays`"
   ]
  },
  {
   "cell_type": "code",
   "execution_count": 53,
   "id": "493b96ee",
   "metadata": {},
   "outputs": [
    {
     "data": {
      "text/plain": [
       "array([[8, 2, 6, 4, 1],\n",
       "       [3, 8, 7, 4, 7],\n",
       "       [8, 8, 0, 3, 7]])"
      ]
     },
     "execution_count": 53,
     "metadata": {},
     "output_type": "execute_result"
    }
   ],
   "source": [
    "random_array"
   ]
  },
  {
   "cell_type": "code",
   "execution_count": 54,
   "id": "8de5db78",
   "metadata": {},
   "outputs": [
    {
     "data": {
      "text/plain": [
       "array([[1, 2, 4, 6, 8],\n",
       "       [3, 4, 7, 7, 8],\n",
       "       [0, 3, 7, 8, 8]])"
      ]
     },
     "execution_count": 54,
     "metadata": {},
     "output_type": "execute_result"
    }
   ],
   "source": [
    "np.sort(random_array)\n",
    "#returns thesorted version of an array"
   ]
  },
  {
   "cell_type": "code",
   "execution_count": 55,
   "id": "d5ea5345",
   "metadata": {},
   "outputs": [
    {
     "data": {
      "text/plain": [
       "array([[4, 1, 3, 2, 0],\n",
       "       [0, 3, 2, 4, 1],\n",
       "       [2, 3, 4, 0, 1]], dtype=int64)"
      ]
     },
     "execution_count": 55,
     "metadata": {},
     "output_type": "execute_result"
    }
   ],
   "source": [
    "np.argsort(random_array)\n",
    "#returns the index of the values in the order they should be numerically"
   ]
  },
  {
   "cell_type": "code",
   "execution_count": 56,
   "id": "4455ff20",
   "metadata": {},
   "outputs": [
    {
     "data": {
      "text/plain": [
       "12"
      ]
     },
     "execution_count": 56,
     "metadata": {},
     "output_type": "execute_result"
    }
   ],
   "source": [
    "np.argmin(random_array)\n",
    "#returns the index of the smallest number in the array"
   ]
  },
  {
   "cell_type": "code",
   "execution_count": 60,
   "id": "8ca082da",
   "metadata": {},
   "outputs": [
    {
     "data": {
      "text/plain": [
       "array([[8, 2, 6, 4, 1],\n",
       "       [3, 8, 7, 4, 7],\n",
       "       [8, 8, 0, 3, 7]])"
      ]
     },
     "execution_count": 60,
     "metadata": {},
     "output_type": "execute_result"
    }
   ],
   "source": [
    "random_array"
   ]
  },
  {
   "cell_type": "code",
   "execution_count": 59,
   "id": "91dfdbfb",
   "metadata": {},
   "outputs": [
    {
     "data": {
      "text/plain": [
       "array([0, 1, 1, 0, 1], dtype=int64)"
      ]
     },
     "execution_count": 59,
     "metadata": {},
     "output_type": "execute_result"
    }
   ],
   "source": [
    "np.argmax(random_array, axis=0)\n",
    "#returns the number with the largest number on axis=0 ie columns"
   ]
  },
  {
   "cell_type": "code",
   "execution_count": 61,
   "id": "a129ef35",
   "metadata": {},
   "outputs": [
    {
     "data": {
      "text/plain": [
       "array([0, 1, 0], dtype=int64)"
      ]
     },
     "execution_count": 61,
     "metadata": {},
     "output_type": "execute_result"
    }
   ],
   "source": [
    "np.argmax(random_array, axis=1)\n",
    "#returns the nimber with the largest number on axis=1 ie rows"
   ]
  },
  {
   "cell_type": "markdown",
   "id": "87c751b1",
   "metadata": {},
   "source": [
    "## Practical example"
   ]
  },
  {
   "cell_type": "markdown",
   "id": "4b0a60be",
   "metadata": {},
   "source": [
    "<img src=\"images/panda.png\"/>"
   ]
  },
  {
   "cell_type": "markdown",
   "id": "0e59404b",
   "metadata": {},
   "source": [
    "### Turn the image above into a numpy array"
   ]
  },
  {
   "cell_type": "code",
   "execution_count": 67,
   "id": "df6edc0a",
   "metadata": {},
   "outputs": [],
   "source": [
    "from matplotlib.image import imread"
   ]
  },
  {
   "cell_type": "code",
   "execution_count": 68,
   "id": "d2c53b42",
   "metadata": {},
   "outputs": [
    {
     "data": {
      "text/plain": [
       "array([[[0.05490196, 0.10588235, 0.06666667],\n",
       "        [0.05490196, 0.10588235, 0.06666667],\n",
       "        [0.05490196, 0.10588235, 0.06666667],\n",
       "        ...,\n",
       "        [0.16470589, 0.12941177, 0.09411765],\n",
       "        [0.16470589, 0.12941177, 0.09411765],\n",
       "        [0.16470589, 0.12941177, 0.09411765]],\n",
       "\n",
       "       [[0.05490196, 0.10588235, 0.06666667],\n",
       "        [0.05490196, 0.10588235, 0.06666667],\n",
       "        [0.05490196, 0.10588235, 0.06666667],\n",
       "        ...,\n",
       "        [0.16470589, 0.12941177, 0.09411765],\n",
       "        [0.16470589, 0.12941177, 0.09411765],\n",
       "        [0.16470589, 0.12941177, 0.09411765]],\n",
       "\n",
       "       [[0.05490196, 0.10588235, 0.06666667],\n",
       "        [0.05490196, 0.10588235, 0.06666667],\n",
       "        [0.05490196, 0.10588235, 0.06666667],\n",
       "        ...,\n",
       "        [0.16470589, 0.12941177, 0.09411765],\n",
       "        [0.16470589, 0.12941177, 0.09411765],\n",
       "        [0.16470589, 0.12941177, 0.09411765]],\n",
       "\n",
       "       ...,\n",
       "\n",
       "       [[0.13333334, 0.07450981, 0.05490196],\n",
       "        [0.12156863, 0.0627451 , 0.04313726],\n",
       "        [0.10980392, 0.05098039, 0.03137255],\n",
       "        ...,\n",
       "        [0.02745098, 0.02745098, 0.03529412],\n",
       "        [0.02745098, 0.02745098, 0.03529412],\n",
       "        [0.02745098, 0.02745098, 0.03529412]],\n",
       "\n",
       "       [[0.13333334, 0.07450981, 0.05490196],\n",
       "        [0.12156863, 0.0627451 , 0.04313726],\n",
       "        [0.12156863, 0.0627451 , 0.04313726],\n",
       "        ...,\n",
       "        [0.02352941, 0.02352941, 0.03137255],\n",
       "        [0.02352941, 0.02352941, 0.03137255],\n",
       "        [0.02352941, 0.02352941, 0.03137255]],\n",
       "\n",
       "       [[0.13333334, 0.07450981, 0.05490196],\n",
       "        [0.12156863, 0.0627451 , 0.04313726],\n",
       "        [0.12156863, 0.0627451 , 0.04313726],\n",
       "        ...,\n",
       "        [0.02352941, 0.02352941, 0.03137255],\n",
       "        [0.02352941, 0.02352941, 0.03137255],\n",
       "        [0.02352941, 0.02352941, 0.03137255]]], dtype=float32)"
      ]
     },
     "execution_count": 68,
     "metadata": {},
     "output_type": "execute_result"
    }
   ],
   "source": [
    "#import the image as a numpy array\n",
    "panda = imread(\"images/panda.png\")\n",
    "\n",
    "panda"
   ]
  },
  {
   "cell_type": "code",
   "execution_count": 69,
   "id": "95ad2244",
   "metadata": {},
   "outputs": [
    {
     "data": {
      "text/plain": [
       "24465000"
      ]
     },
     "execution_count": 69,
     "metadata": {},
     "output_type": "execute_result"
    }
   ],
   "source": [
    "panda.size"
   ]
  },
  {
   "cell_type": "code",
   "execution_count": 70,
   "id": "c35eba49",
   "metadata": {},
   "outputs": [
    {
     "data": {
      "text/plain": [
       "3"
      ]
     },
     "execution_count": 70,
     "metadata": {},
     "output_type": "execute_result"
    }
   ],
   "source": [
    "panda.ndim"
   ]
  },
  {
   "cell_type": "markdown",
   "id": "edf4f30e",
   "metadata": {},
   "source": [
    "<img src=\"images/car-photo.png\"/>"
   ]
  },
  {
   "cell_type": "code",
   "execution_count": 72,
   "id": "fe7ec1f4",
   "metadata": {},
   "outputs": [
    {
     "data": {
      "text/plain": [
       "array([[[0.5019608 , 0.50980395, 0.4862745 , 1.        ],\n",
       "        [0.3372549 , 0.34509805, 0.30588236, 1.        ],\n",
       "        [0.20392157, 0.21568628, 0.14901961, 1.        ],\n",
       "        ...,\n",
       "        [0.64705884, 0.7058824 , 0.54901963, 1.        ],\n",
       "        [0.59607846, 0.63529414, 0.45882353, 1.        ],\n",
       "        [0.44705883, 0.47058824, 0.3372549 , 1.        ]],\n",
       "\n",
       "       [[0.44313726, 0.43529412, 0.40392157, 1.        ],\n",
       "        [0.3137255 , 0.31764707, 0.27450982, 1.        ],\n",
       "        [0.2       , 0.21176471, 0.14117648, 1.        ],\n",
       "        ...,\n",
       "        [0.5058824 , 0.5372549 , 0.4117647 , 1.        ],\n",
       "        [0.49803922, 0.52156866, 0.39607844, 1.        ],\n",
       "        [0.4       , 0.42745098, 0.34117648, 1.        ]],\n",
       "\n",
       "       [[0.39607844, 0.38039216, 0.34117648, 1.        ],\n",
       "        [0.31764707, 0.3137255 , 0.27450982, 1.        ],\n",
       "        [0.28627452, 0.29411766, 0.24705882, 1.        ],\n",
       "        ...,\n",
       "        [0.44705883, 0.45882353, 0.32156864, 1.        ],\n",
       "        [0.45882353, 0.48235294, 0.3529412 , 1.        ],\n",
       "        [0.4509804 , 0.49019608, 0.38039216, 1.        ]],\n",
       "\n",
       "       ...,\n",
       "\n",
       "       [[0.47058824, 0.57254905, 0.6313726 , 1.        ],\n",
       "        [0.4392157 , 0.53333336, 0.5882353 , 1.        ],\n",
       "        [0.48235294, 0.5803922 , 0.6392157 , 1.        ],\n",
       "        ...,\n",
       "        [0.6156863 , 0.7529412 , 0.827451  , 1.        ],\n",
       "        [0.61960787, 0.7607843 , 0.83137256, 1.        ],\n",
       "        [0.5921569 , 0.73333335, 0.7921569 , 1.        ]],\n",
       "\n",
       "       [[0.4745098 , 0.5803922 , 0.6392157 , 1.        ],\n",
       "        [0.47058824, 0.58431375, 0.63529414, 1.        ],\n",
       "        [0.4117647 , 0.5019608 , 0.5529412 , 1.        ],\n",
       "        ...,\n",
       "        [0.54901963, 0.6784314 , 0.74509805, 1.        ],\n",
       "        [0.65882355, 0.8117647 , 0.8862745 , 1.        ],\n",
       "        [0.60784316, 0.74509805, 0.8117647 , 1.        ]],\n",
       "\n",
       "       [[0.4745098 , 0.57254905, 0.627451  , 1.        ],\n",
       "        [0.49411765, 0.6       , 0.65882355, 1.        ],\n",
       "        [0.49019608, 0.5921569 , 0.64705884, 1.        ],\n",
       "        ...,\n",
       "        [0.5294118 , 0.63529414, 0.69803923, 1.        ],\n",
       "        [0.5529412 , 0.67058825, 0.7372549 , 1.        ],\n",
       "        [0.6156863 , 0.73333335, 0.8       , 1.        ]]], dtype=float32)"
      ]
     },
     "execution_count": 72,
     "metadata": {},
     "output_type": "execute_result"
    }
   ],
   "source": [
    "#turning the picture above into a numpy array\n",
    "car = imread(\"images/car-photo.png\")\n",
    "car"
   ]
  },
  {
   "cell_type": "code",
   "execution_count": null,
   "id": "fcf4e9c3",
   "metadata": {},
   "outputs": [],
   "source": []
  }
 ],
 "metadata": {
  "kernelspec": {
   "display_name": "Python 3",
   "language": "python",
   "name": "python3"
  },
  "language_info": {
   "codemirror_mode": {
    "name": "ipython",
    "version": 3
   },
   "file_extension": ".py",
   "mimetype": "text/x-python",
   "name": "python",
   "nbconvert_exporter": "python",
   "pygments_lexer": "ipython3",
   "version": "3.8.8"
  }
 },
 "nbformat": 4,
 "nbformat_minor": 5
}
